{
 "cells": [
  {
   "cell_type": "markdown",
   "metadata": {},
   "source": [
    "# Dashboards using ipywidgets"
   ]
  },
  {
   "cell_type": "code",
   "execution_count": 13,
   "metadata": {
    "collapsed": false
   },
   "outputs": [],
   "source": [
    "from ipywidgets import Button, widgets, DOMWidget\n",
    "from IPython.display import display\n",
    "\n",
    "from matplotlib import pyplot as plt"
   ]
  },
  {
   "cell_type": "code",
   "execution_count": 21,
   "metadata": {
    "collapsed": false
   },
   "outputs": [
    {
     "data": {
      "image/png": "[encoded data removed]",
      "text/plain": [
       "<matplotlib.figure.Figure at 0x108729a10>"
      ]
     },
     "metadata": {},
     "output_type": "display_data"
    }
   ],
   "source": [
    "pats_btn = widgets.Button(description=\"Patriots\")\n",
    "pats_btn.background_color = \"#046A8C\"\n",
    "\n",
    "broncos_btn = widgets.Button(description=\"Broncos\")\n",
    "broncos_btn.background_color = \"orange\" \n",
    "\n",
    "# FIXME It is not clear how to set button size smaller\n",
    "# and how to put the plot aside the buttons\n",
    "# As the documentation is scarce, I'm giving up\n",
    "\n",
    "fig, ax = plt.subplots(figsize=(4, 3),\n",
    "                       subplot_kw={'axisbg':'#EEEEEE',\n",
    "                                   'axisbelow':True})\n",
    "\n",
    "ax.grid(color='w', linewidth=2, linestyle='solid')\n",
    "x = np.linspace(0, 10, 1000)\n",
    "ax.plot(x, np.sin(x), color=\"blue\",\n",
    "        lw=5, alpha=0.4)\n",
    "ax.set_xlim(0, 10)\n",
    "ax.set_ylim(-1.1, 1.1)\n",
    "\n",
    "display(pats_btn, broncos_btn)"
   ]
  },
  {
   "cell_type": "code",
   "execution_count": 20,
   "metadata": {
    "collapsed": false
   },
   "outputs": [
    {
     "data": {
      "image/png": "[encoded data removed]",
      "text/plain": [
       "<matplotlib.figure.Figure at 0x109fd1150>"
      ]
     },
     "metadata": {},
     "output_type": "display_data"
    }
   ],
   "source": [
    "# from http://stackoverflow.com/questions/29297858/ipywidgets-staticinteract-plots-all-images-combination\n",
    "\n",
    "%matplotlib inline\n",
    "\n",
    "amplitude_slider = FloatSlider(min=0.1, max=1.0, step=0.1, value=0.2)\n",
    "color_buttons = RadioButtons(options=['blue', 'green', 'red'])\n",
    "\n",
    "# FIXME moving the amplitude slider really fast leads to a visible rendering delay :(\n",
    "\n",
    "# decorate the plot function with an environment from the UIs:\n",
    "@interact(amplitude=amplitude_slider, color=color_buttons)\n",
    "def plot(amplitude, color):\n",
    "    fig, ax = plt.subplots(figsize=(4, 3),\n",
    "                       subplot_kw={'axisbg':'#EEEEEE',\n",
    "                                   'axisbelow':True})\n",
    "\n",
    "    ax.grid(color='w', linewidth=2, linestyle='solid')\n",
    "    x = np.linspace(0, 10, 1000)\n",
    "    ax.plot(x, amplitude * np.sin(x), color=color,\n",
    "        lw=5, alpha=0.4)\n",
    "    ax.set_xlim(0, 10)\n",
    "    ax.set_ylim(-1.1, 1.1)"
   ]
  },
  {
   "cell_type": "code",
   "execution_count": null,
   "metadata": {
    "collapsed": true
   },
   "outputs": [],
   "source": []
  }
 ],
 "metadata": {
  "kernelspec": {
   "display_name": "Python 2",
   "language": "python",
   "name": "python2"
  },
  "language_info": {
   "codemirror_mode": {
    "name": "ipython",
    "version": 2
   },
   "file_extension": ".py",
   "mimetype": "text/x-python",
   "name": "python",
   "nbconvert_exporter": "python",
   "pygments_lexer": "ipython2",
   "version": "2.7.11"
  }
 },
 "nbformat": 4,
 "nbformat_minor": 0
}
